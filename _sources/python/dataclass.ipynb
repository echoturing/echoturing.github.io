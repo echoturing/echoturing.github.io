{
 "cells": [
  {
   "cell_type": "markdown",
   "id": "825d54c9",
   "metadata": {},
   "source": [
    "Python的Dataclasses\n",
    "==================\n",
    "\n",
    "## 前言\n",
    "\n",
    "如果你经常通过使用`class`的方式抽象的话，就会发现一个问题，你会经常写一些冗余的代码块。\n",
    "比如`__init__`,`__repr__`等等。  \n",
    "`Dataclasses`在Python3.7被引入，提供了一个更简单的方式来创建`class`。\n",
    "\n",
    "\n",
    "\n",
    "## `Python Dataclass example`"
   ]
  },
  {
   "cell_type": "code",
   "execution_count": 1,
   "id": "9f9f7473",
   "metadata": {},
   "outputs": [
    {
     "name": "stdout",
     "output_type": "stream",
     "text": [
      "Book(name='name book',weight=10, shelf_id=0)\n"
     ]
    }
   ],
   "source": [
    "class Book:\n",
    "    def __init__(self, name: str, weight: float, shelf_id: int = 0):\n",
    "        self.name = name\n",
    "        self.weight = weight\n",
    "        self.shelf_id = shelf_id\n",
    "\n",
    "    def __repr__(self):\n",
    "        return f\"Book(name={self.name!r},weight={self.weight!r}, shelf_id={self.shelf_id!r})\"\n",
    "\n",
    "print(Book('name book', 10))"
   ]
  },
  {
   "cell_type": "markdown",
   "id": "c30fdf67",
   "metadata": {},
   "source": [
    "如果你只写这一个的话，好像没什么不妥，但是如果你要写好多个class，你就会发现每一个`__init__`方法你都需要把参数挨个的赋值给自己的属性  \n",
    "但是如果你用`Dataclass`,那么代码就变成下边的样子了"
   ]
  },
  {
   "cell_type": "code",
   "execution_count": 2,
   "id": "95a1de0b",
   "metadata": {},
   "outputs": [
    {
     "name": "stdout",
     "output_type": "stream",
     "text": [
      "`注意`:当你在dataclass里面添加属性定义的时候，`@dataclass`装饰器会自动生成对应的`__init__`方法，并且该方法还保留了类型注解。\n",
      "Book(name='name book', weight=10, shelf_id=0)\n"
     ]
    }
   ],
   "source": [
    "from dataclasses import dataclass\n",
    "\n",
    "@dataclass\n",
    "class Book:\n",
    "    name: str\n",
    "    weight: float \n",
    "    shelf_id: int = 0\n",
    "    \n",
    "print(\"`注意`:当你在dataclass里面添加属性定义的时候，`@dataclass`装饰器会自动生成对应的`__init__`方法，并且该方法还保留了类型注解。\")\n",
    "print(Book('name book', 10))\n"
   ]
  },
  {
   "cell_type": "markdown",
   "id": "1014bbbd",
   "metadata": {},
   "source": [
    "### `field`\n",
    "上边的例子在大部分情况下就够用了，但是有时候你想自定义一下默认值，这时候你可以使用`field`"
   ]
  },
  {
   "cell_type": "code",
   "execution_count": 3,
   "id": "77d86882",
   "metadata": {},
   "outputs": [],
   "source": [
    "from dataclasses import dataclass, field\n",
    "from typing import List\n",
    "\n",
    "@dataclass\n",
    "class Book:\n",
    "    name: str     \n",
    "    condition: str = field(compare=False) \n",
    "    weight: float = field(default=0.0, repr=False)\n",
    "    shelf_id: int = 0\n",
    "    chapters: List[str] = field(default_factory=list) # 这里保证每个Book实例的chapters字段都是一个新的list\n"
   ]
  },
  {
   "cell_type": "markdown",
   "id": "5db92968",
   "metadata": {},
   "source": [
    "### `__post_init__`\n",
    "如果你有更复杂的定制，那你可以使用 `__post_init__`"
   ]
  },
  {
   "cell_type": "code",
   "execution_count": 4,
   "id": "101e12ab",
   "metadata": {},
   "outputs": [
    {
     "name": "stdout",
     "output_type": "stream",
     "text": [
      "Book(name='book', shelf_id=None, chapters=[])\n"
     ]
    }
   ],
   "source": [
    "from dataclasses import dataclass, field, InitVar\n",
    "from typing import List\n",
    "\n",
    "@dataclass\n",
    "class Book:\n",
    "    name: str     \n",
    "    condition: InitVar[str] = None\n",
    "    weight: float = field(default=0.0, repr=False)\n",
    "    shelf_id: int = field(init=False)\n",
    "    chapters: List[str] = field(default_factory=list)\n",
    "\n",
    "    def __post_init__(self, condition):\n",
    "        if condition == \"Discarded\": \n",
    "            self.shelf_id = None\n",
    "        else:\n",
    "            self.shelf_id = 0\n",
    "\n",
    "print(Book(\"book\",\"Discarded\"))"
   ]
  },
  {
   "cell_type": "markdown",
   "id": "4cd51ffe",
   "metadata": {},
   "source": [
    "## `FAQ`\n",
    "\n",
    "### `1.什么时候使用dataclass?`\n",
    "\n",
    "`dataclass`的一个常用方式就是替换 `namedtuple`，它们都可以创建不可变对象，`@dataclass(frozen=True)`。\n",
    "\n",
    "另一个用途就是用来替换嵌套的`dict`"
   ]
  }
 ],
 "metadata": {
  "jupytext": {
   "cell_metadata_filter": "-all",
   "formats": "md:myst",
   "text_representation": {
    "extension": ".md",
    "format_name": "myst",
    "format_version": 0.13,
    "jupytext_version": "1.10.3"
   }
  },
  "kernelspec": {
   "display_name": "Python 3",
   "language": "python",
   "name": "python3"
  },
  "language_info": {
   "codemirror_mode": {
    "name": "ipython",
    "version": 3
   },
   "file_extension": ".py",
   "mimetype": "text/x-python",
   "name": "python",
   "nbconvert_exporter": "python",
   "pygments_lexer": "ipython3",
   "version": "3.8.3"
  },
  "source_map": [
   14,
   29,
   40,
   45,
   57,
   62,
   75,
   80,
   99
  ]
 },
 "nbformat": 4,
 "nbformat_minor": 5
}