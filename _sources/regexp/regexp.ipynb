{
 "cells": [
  {
   "cell_type": "markdown",
   "id": "84b31e25",
   "metadata": {},
   "source": [
    "正则表达式(regexp)\n",
    "============================\n",
    "\n",
    "## 匹配中文\n",
    "\n",
    "> 匹配中文字符的正则表达式： [\\u4e00-\\u9fa5]\n",
    "> 匹配双字节字符(包括汉字在内)：[^\\x00-\\xff]"
   ]
  },
  {
   "cell_type": "code",
   "execution_count": 1,
   "id": "a35a1d5b",
   "metadata": {},
   "outputs": [
    {
     "name": "stdout",
     "output_type": "stream",
     "text": [
      "中文字符匹配 ['这是中文']\n",
      "多字节字符匹配(emoji表情是多字节,不在中文编码里面) ['这是中文', '😿']\n"
     ]
    }
   ],
   "source": [
    "import re\n",
    "unicodeRegexp = re.compile(r'[\\u4e00-\\u9fa5]+')\n",
    "multiByteRegexp = re.compile(r'[^\\x00-\\xff]+')\n",
    "test1 = \"xxx这是中文xxx😿\"\n",
    "print(\"中文字符匹配\",unicodeRegexp.findall(test1))\n",
    "print(\"多字节字符匹配(emoji表情是多字节,不在中文编码里面)\",multiByteRegexp.findall(test1))"
   ]
  },
  {
   "cell_type": "markdown",
   "id": "841fa944",
   "metadata": {},
   "source": [
    "## 逻辑表达式\n",
    "\n",
    "### 与"
   ]
  },
  {
   "cell_type": "code",
   "execution_count": 2,
   "id": "98ba983c",
   "metadata": {},
   "outputs": [
    {
     "name": "stdout",
     "output_type": "stream",
     "text": [
      "prefixfoobarsuffix ['foobar']\n",
      "prefixbarfoosuffix []\n",
      "prefixfoo_barsuffix []\n"
     ]
    }
   ],
   "source": [
    "# 常规正则默认都是逻辑与\n",
    "# 比如你有两个pattern:foo和bar\n",
    "# 则这两个pattern组合在一起的时候:(foo)(bar)则必须匹配foobar这个连续的词\n",
    "foobarRegexp = re.compile(r'foobar')\n",
    "test1 = \"prefixfoobarsuffix\"\n",
    "test2 = \"prefixbarfoosuffix\"\n",
    "test3 = \"prefixfoo_barsuffix\"\n",
    "\n",
    "print(test1, foobarRegexp.findall(test1))\n",
    "print(test2, foobarRegexp.findall(test2))\n",
    "print(test3, foobarRegexp.findall(test3))\n",
    "\n",
    "# 所以上边的代码只有test1能匹配出结果"
   ]
  },
  {
   "cell_type": "markdown",
   "id": "5b135f70",
   "metadata": {},
   "source": [
    "### 或"
   ]
  },
  {
   "cell_type": "code",
   "execution_count": 3,
   "id": "29fe12b7",
   "metadata": {},
   "outputs": [
    {
     "name": "stdout",
     "output_type": "stream",
     "text": [
      "prefixfoosuffix ['foo']\n",
      "prefixbarsuffix ['bar']\n",
      "prefixfoo_barsuffix ['foo', 'bar']\n"
     ]
    }
   ],
   "source": [
    "# 所有的量词都可以被解释为`或`,比如 *(0次或多次),+(1次或多次),?(0次或1次),(pattern){x,y}(至少x次,最多y次)\n",
    "# 多个不同的patten中间使用`|`分割,比如 (foo|bar)代表要么匹配foo要么匹配bar\n",
    "# 字符组,也叫做方括号表达式(bracketed expression),比如[1-9]匹配1~9之间的任意数字,[a-z]匹配a-z之间的任意数字\n",
    "foobarRegexp = re.compile(r'(foo|bar)')\n",
    "test1 = \"prefixfoosuffix\"\n",
    "test2 = \"prefixbarsuffix\"\n",
    "test3 = \"prefixfoo_barsuffix\"\n",
    "\n",
    "print(test1,foobarRegexp.findall(test1))\n",
    "print(test2,foobarRegexp.findall(test2))\n",
    "print(test3,foobarRegexp.findall(test3))"
   ]
  },
  {
   "cell_type": "markdown",
   "id": "77dfc91f",
   "metadata": {},
   "source": [
    "### 非\n",
    "\n",
    "- 非一般来说有两种方式处理,一种是方括号表达式最前边加一个`^`,比如[^a-z]表示不包含a~z的字符的其他字符\n",
    "- 另一种是[环视](regexp_lookaround.md),使用反前瞻(?!pattern)和反后顾(?<!pattern)"
   ]
  },
  {
   "cell_type": "code",
   "execution_count": 4,
   "id": "120c7b25",
   "metadata": {},
   "outputs": [
    {
     "data": {
      "text/plain": [
       "'<a href=\"http://foobar.com\">点击跳转</a>\\n    <img src=\"http://foo.com/bar.jpg\" />\\n    这是P的内容\\n'"
      ]
     },
     "execution_count": 4,
     "metadata": {},
     "output_type": "execute_result"
    }
   ],
   "source": [
    "# 现在以删除所有除去a,img的html标签,并保留所有text内容为例，一步一步的实现我们的需求\n",
    "test = '''\n",
    "<div>\n",
    "    <a href=\"http://foobar.com\">点击跳转</a>\n",
    "    <img src=\"http://foo.com/bar.jpg\" />\n",
    "    <p class=\"border\">这是P的内容</p>\n",
    "</div>\n",
    "'''\n",
    "# 我们最终只保留如下内容:\n",
    "\"\"\"<a href=\"http://foobar.com\">点击跳转</a>\n",
    "    <img src=\"http://foo.com/bar.jpg\" />\n",
    "    这是P的内容\n",
    "\"\"\""
   ]
  },
  {
   "cell_type": "code",
   "execution_count": 5,
   "id": "8baafc8e",
   "metadata": {},
   "outputs": [
    {
     "name": "stdout",
     "output_type": "stream",
     "text": [
      "只包含html标签: ['<div>', '<a href=\"http://foobar.com\">', '</a>', '<img src=\"http://foo.com/bar.jpg\" />', '<p class=\"border\">', '</p>', '</div>']\n"
     ]
    }
   ],
   "source": [
    "# html的标签目前看来是以<开头的,第二个字符可以是/用以代表一个闭合标签,中间不包含>并右边以>结尾的，所以可以用 </?[^>]+> 匹配\n",
    "print(\"只包含html标签:\", re.findall(r'</?[^>]*>', test))"
   ]
  },
  {
   "cell_type": "code",
   "execution_count": 6,
   "id": "af115a10",
   "metadata": {},
   "outputs": [
    {
     "name": "stdout",
     "output_type": "stream",
     "text": [
      "删除所有html标签后: \n",
      "\n",
      "    点击跳转\n",
      "    \n",
      "    这是P的内容\n",
      "\n",
      "\n"
     ]
    }
   ],
   "source": [
    "# 如果我们的需求是删掉所有html标签,只剩text内容的话，现在只需要用空字符串替换掉这些标签就行\n",
    "print(\"删除所有html标签后:\", re.sub(r'</?[^>]*>', \"\", test))"
   ]
  },
  {
   "cell_type": "code",
   "execution_count": 7,
   "id": "51d03a2c",
   "metadata": {},
   "outputs": [
    {
     "name": "stdout",
     "output_type": "stream",
     "text": [
      "只包含a和img标签: ['<a href=\"http://foobar.com\">', '</a>', '<img src=\"http://foo.com/bar.jpg\" />']\n"
     ]
    }
   ],
   "source": [
    "# 那现在我们需要保留a和img标签，怎么做呢?首先，如果我们要匹配所有的a和img标签应该这样 </?(a|img)[^>]*>\n",
    "# 但是由于python的findall的机制问题，所以我们默认用一个非捕获语法(?:pattern)来屏蔽到单独的a和img的输出\n",
    "print(\"只包含a和img标签:\", re.findall(r'(</?(?:a|img)[^>]*>)', test))"
   ]
  },
  {
   "cell_type": "code",
   "execution_count": 8,
   "id": "06701d73",
   "metadata": {},
   "outputs": [
    {
     "name": "stdout",
     "output_type": "stream",
     "text": [
      "只保留a和img以及所有text \n",
      "\n",
      "    <a href=\"http://foobar.com\">点击跳转</a>\n",
      "    <img src=\"http://foo.com/bar.jpg\" />\n",
      "    这是P的内容\n",
      "\n",
      "\n"
     ]
    }
   ],
   "source": [
    "# 所以如果要删除a和img标签的话，那直接用空字符串替换掉匹配的标签就行了，但是我们实际上是需要留下这两个标签\n",
    "# 那么我们就可以使用反前瞻来实现。具体的正则就是先前两个的组合\n",
    "# 首先我们要匹配出所有非a和img的标签  (?!</?(?:a|img)[^>]*>) \n",
    "# 然后再去尝试匹配其他标签  </?[^>]*>\n",
    "# 所以最终的正则看起来应该是这两者拼起来的 (?!</?(?:a|img)[^>]*>)(</?[^>]*>)\n",
    "print(\"只保留a和img以及所有text\",re.sub(r'(?!</?(?:a|img)[^>]*>)(</?[^>]*>)',\"\",test))"
   ]
  },
  {
   "cell_type": "code",
   "execution_count": null,
   "id": "f568a9b0",
   "metadata": {},
   "outputs": [],
   "source": []
  }
 ],
 "metadata": {
  "jupytext": {
   "cell_metadata_filter": "-all",
   "formats": "md:myst",
   "text_representation": {
    "extension": ".md",
    "format_name": "myst",
    "format_version": 0.13,
    "jupytext_version": "1.10.3"
   }
  },
  "kernelspec": {
   "display_name": "Python 3",
   "language": "python",
   "name": "python3"
  },
  "language_info": {
   "codemirror_mode": {
    "name": "ipython",
    "version": 3
   },
   "file_extension": ".py",
   "mimetype": "text/x-python",
   "name": "python",
   "nbconvert_exporter": "python",
   "pygments_lexer": "ipython3",
   "version": "3.8.3"
  },
  "source_map": [
   14,
   24,
   31,
   37,
   51,
   55,
   67,
   74,
   90,
   95,
   100,
   106,
   115
  ]
 },
 "nbformat": 4,
 "nbformat_minor": 5
}