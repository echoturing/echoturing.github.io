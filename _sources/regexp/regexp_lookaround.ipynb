{
 "cells": [
  {
   "cell_type": "markdown",
   "id": "092e3359",
   "metadata": {},
   "source": [
    "环视(regexp)\n",
    "============================\n",
    "\n",
    "## 环视\n",
    "\n",
    "```text\n",
    "环视是一种非捕获分组，它根据某个模式之前或之后的内容匹配其他模式。环视也 称为零宽度断言。\n",
    "同样是零宽度断言的还有有`\\b`(匹配单词边界),`^`(匹配一行的开头),`$`(匹配一行的结尾)\n",
    "```"
   ]
  },
  {
   "cell_type": "code",
   "execution_count": 1,
   "id": "0cd139d1",
   "metadata": {},
   "outputs": [],
   "source": [
    "import re"
   ]
  },
  {
   "cell_type": "markdown",
   "id": "49cb29a1",
   "metadata": {},
   "source": [
    "### 正前瞻(?=pattern)"
   ]
  },
  {
   "cell_type": "code",
   "execution_count": 2,
   "id": "545d772d",
   "metadata": {},
   "outputs": [
    {
     "name": "stdout",
     "output_type": "stream",
     "text": [
      "prefix_123suffix\n"
     ]
    }
   ],
   "source": [
    "import re\n",
    "test = \"prefix123suffix\"\n",
    "# 现在我们的需求是在prefix和123之间加一个_分隔一下\n",
    "# 正前瞻(?=pattern)的意思是:和普通的pattern一样,但是它只是匹配出pattern的前边的一个位置,但是并不消耗掉任何字符\n",
    "# 所以我们首先要找到123这个pattern,然后直接用正前瞻找到123前边的那个位置,然后直接用_替换掉那个位置就完成了需求\n",
    "pattern = r'(?=123)'\n",
    "print(re.sub(pattern,\"_\",test))"
   ]
  },
  {
   "cell_type": "markdown",
   "id": "14257b95",
   "metadata": {},
   "source": [
    "### 正后顾(?<=pattern)"
   ]
  },
  {
   "cell_type": "code",
   "execution_count": 3,
   "id": "b2d99a7f",
   "metadata": {},
   "outputs": [
    {
     "name": "stdout",
     "output_type": "stream",
     "text": [
      "prefix123_suffix\n"
     ]
    }
   ],
   "source": [
    "import re\n",
    "# 后顾和前瞻其实差别就是前瞻匹配的是pattern前边的位置，后顾是pattern后边的位置\n",
    "# 所以如果我们的需求是在123和suffix之间加一个_分割一下\n",
    "# 那我们只需要把前瞻语法改为后顾语法就行\n",
    "test = \"prefix123suffix\"\n",
    "pattern = r'(?<=123)'\n",
    "print(re.sub(pattern,\"_\",test))"
   ]
  },
  {
   "cell_type": "markdown",
   "id": "c8af9f44",
   "metadata": {},
   "source": [
    "### 反前瞻(?!pattern)"
   ]
  },
  {
   "cell_type": "code",
   "execution_count": 4,
   "id": "023f570c",
   "metadata": {},
   "outputs": [
    {
     "name": "stdout",
     "output_type": "stream",
     "text": [
      "_a1_2_3_b_\n"
     ]
    }
   ],
   "source": [
    "import re\n",
    "# 反前瞻就是正前瞻的否定\n",
    "# 比如我们之前的(?=123)匹配的是123前边的那个位置\n",
    "# (?!123)则匹配的是非123前边的位置,对于prefix123suffix这个case来说，位置就比较多了。\n",
    "# 简单起见，我们这里把case改为a123b,那么(?!(123))则匹配了不是123这个pattern的前边的位置,如果在这些位置用_填充的话，结果为_a1_2_3_b_\n",
    "test = \"a123b\"\n",
    "pattern = r'(?!123)'\n",
    "print(re.sub(pattern,\"_\",test))"
   ]
  },
  {
   "cell_type": "markdown",
   "id": "804df937",
   "metadata": {},
   "source": [
    "### 反后顾(?<!pattern)"
   ]
  },
  {
   "cell_type": "code",
   "execution_count": 5,
   "id": "ee85c88d",
   "metadata": {},
   "outputs": [
    {
     "name": "stdout",
     "output_type": "stream",
     "text": [
      "_a_1_2_3b_\n"
     ]
    }
   ],
   "source": [
    "import re\n",
    "# 反后顾就是正后顾的否定\n",
    "# 同样的，我们这里case为a123b,那么(?<!(123))则匹配了不是123这个pattern的后边的位置,如果在这些位置用_填充的话，结果为_a_1_2_3b_\n",
    "test = \"a123b\"\n",
    "pattern = r'(?<!123)'\n",
    "print(re.sub(pattern,\"_\",test))"
   ]
  },
  {
   "cell_type": "markdown",
   "id": "b601f889",
   "metadata": {},
   "source": [
    "## 总结\n",
    "```text\n",
    "正前瞻和正后顾因为是对pattern的肯定,所以用的时候和一般的pattern差不太多。\n",
    "反前瞻和反后顾由于是对pattern的否定,所以一般会在前边或者后边搭配其他一些pattern使用。不然匹配的位置就太多了一些\n",
    "```"
   ]
  }
 ],
 "metadata": {
  "jupytext": {
   "cell_metadata_filter": "-all",
   "formats": "md:myst",
   "text_representation": {
    "extension": ".md",
    "format_name": "myst",
    "format_version": 0.13,
    "jupytext_version": "1.10.3"
   }
  },
  "kernelspec": {
   "display_name": "Python 3",
   "language": "python",
   "name": "python3"
  },
  "language_info": {
   "codemirror_mode": {
    "name": "ipython",
    "version": 3
   },
   "file_extension": ".py",
   "mimetype": "text/x-python",
   "name": "python",
   "nbconvert_exporter": "python",
   "pygments_lexer": "ipython3",
   "version": "3.8.3"
  },
  "source_map": [
   14,
   26,
   28,
   32,
   40,
   44,
   52,
   56,
   65,
   69,
   76
  ]
 },
 "nbformat": 4,
 "nbformat_minor": 5
}