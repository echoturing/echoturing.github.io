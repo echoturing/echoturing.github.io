{
 "cells": [
  {
   "cell_type": "markdown",
   "id": "d0623320",
   "metadata": {},
   "source": [
    "环视(regexp)\n",
    "============================\n",
    "\n",
    "## 环视\n",
    "\n",
    "### 正前瞻\n",
    "\n",
    "### 反前瞻\n",
    "\n",
    "### 正后顾\n",
    "### 反后顾"
   ]
  }
 ],
 "metadata": {
  "jupytext": {
   "cell_metadata_filter": "-all",
   "formats": "md:myst",
   "text_representation": {
    "extension": ".md",
    "format_name": "myst",
    "format_version": 0.13,
    "jupytext_version": "1.10.3"
   }
  },
  "kernelspec": {
   "display_name": "Python 3",
   "language": "python",
   "name": "python3"
  },
  "language_info": {
   "codemirror_mode": {
    "name": "ipython",
    "version": 3
   },
   "file_extension": ".py",
   "mimetype": "text/x-python",
   "name": "python",
   "nbconvert_exporter": "python",
   "pygments_lexer": "ipython3",
   "version": "3.8.3"
  },
  "source_map": [
   14
  ]
 },
 "nbformat": 4,
 "nbformat_minor": 5
}